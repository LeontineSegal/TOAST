{
 "cells": [
  {
   "cell_type": "markdown",
   "metadata": {},
   "source": [
    "# <center> Accuracy analysis with the Cramér-Rao bound </center>\n"
   ]
  },
  {
   "cell_type": "code",
   "execution_count": null,
   "metadata": {},
   "outputs": [],
   "source": [
    "# %% load modules\n",
    "import os\n",
    "import sys\n",
    "sys.path.append(os.path.join(os.getcwd(), '.', '..'))\n",
    "\n",
    "import numpy as np \n",
    "\n",
    "# to show maps of results \n",
    "import matplotlib.colors as mcol\n",
    "import matplotlib.pyplot as plt\n",
    "from model import theta, number_of_different_layers"
   ]
  },
  {
   "cell_type": "code",
   "execution_count": null,
   "metadata": {},
   "outputs": [],
   "source": [
    "# paths\n",
    "path_dataset = '***/TOAST/examples/data-horsehead/inputs'\n",
    "\n",
    "FoV = np.load(f'{path_dataset}/FoV.npy', allow_pickle=True) # position-position-velocity cubes"
   ]
  },
  {
   "cell_type": "markdown",
   "metadata": {},
   "source": [
    "Let $\\theta$ the vector of unknowns such as $\\theta = \\{ log{\\text{T}_{kin, i}},\\, log{\\text{n}_{H_2, i}},\\, log{N_i},\\, \\text{FWHM}_i,\\, C_{V, i}, ..., log{\\text{T}_{kin, L}},\\, log{\\text{n}_{H_2, L}},\\, log{N_L},\\, \\text{FWHM}_L,\\, C_{V, L}\\}$, where $L$ is the number of different layers composing the sight-line.\n",
    "\n",
    "\n",
    "The Cramér-Rao bound $^{\\star}$ (CRB) provides a lower bound of the variance on estimations for any\n",
    "unbiased estimator, such as\n",
    "$\\text{var} (\\widehat \\theta_i) \\geq [CRB(\\theta)]_{ii} \\text{ for } \\widehat\\theta_i \\in {\\widehat\\theta}$.\n",
    "Moreover, when for efficient estimator, one has \n",
    "$\\text{var} (\\widehat \\theta_i) = [CRB(\\theta)]_{ii} \\text{ for } \\widehat\\theta_i \\in {\\widehat\\theta}$.\n",
    "We therefore compute the CRB on the estimation results to derive confidence intervals of reference. \n",
    "\n",
    "We provide a routine `launch_crb.py` to compute those error bars. \n",
    "In this notebook, we use the estimation results obtained in the example `analyze_map.ipynb`. \n",
    "\n",
    "\n",
    "**Note**: $^{\\star}$ see Garthwaite, P. H., Jolliffe, I. T., & Jones, B. 1995, Statistical Inference (London:\n",
    "Prentice Hall Europe)"
   ]
  },
  {
   "cell_type": "markdown",
   "metadata": {},
   "source": [
    "To launch the routine, execute the cell below or type the shell command ```python launch_crb.py```. \n",
    "**Note**: For the 27 pixels in the field of view studied, this should take $\\sim$ 5 minutes."
   ]
  },
  {
   "cell_type": "code",
   "execution_count": null,
   "metadata": {},
   "outputs": [],
   "source": [
    "# launch the computation of the CRBs \n",
    "\n",
    "os.system('python .././launch_crb.py')"
   ]
  },
  {
   "cell_type": "markdown",
   "metadata": {},
   "source": [
    "### Result visualization "
   ]
  },
  {
   "cell_type": "markdown",
   "metadata": {},
   "source": [
    "**Note**: As the $log_{10}$ of $\\text{T}_{kin}$, $\\text{n}_{H_2}$ and ${N_i}$ are estimated, the precision are on the $log_{10}$ as well. The CRB on those variables can be read such as $\\text{var} (\\text{T}_{kin}) = \\widehat{\\text{T}_{kin}} * 10^{\\pm \\sqrt{CRB}}$. For instance, $CRB \\sim 0.3$ corresponds to an error of a factor $\\sim 2$. "
   ]
  },
  {
   "cell_type": "code",
   "execution_count": null,
   "metadata": {},
   "outputs": [],
   "source": [
    "# load CRB maps \n",
    "# vector theta : {log(Tkin), log(nH2), log(N(mol_ref)), FWHM, CV}, for each layer\n",
    "maps_crb_rw = np.load(f'analyze_map/outputs/estimations/accuracies/maps_crb_rw.npy', allow_pickle = True)\n",
    "\n",
    "# show maps \n",
    "titles = [\n",
    "    r'log($T_{\\mathrm{kin}}$ /K)',\n",
    "    r'log($n_{\\mathrm{H}_2}$ /cm$^{-3}$)',\n",
    "    r'log($N$ /cm$^{-2}$)',\n",
    "    r'FWHM [km/s]',\n",
    "    r'$C_V$ [km/s]'\n",
    "]\n",
    "\n",
    "# for segmented colormap \n",
    "def create_colormap_CRB():\n",
    "    bounds = np.array([0.01, 0.03, 0.06, 0.1, 0.3, 0.6, 1])\n",
    "    norm = mcol.BoundaryNorm(boundaries=bounds, ncolors=256)\n",
    "    cmap = mcol.LinearSegmentedColormap.from_list(\n",
    "        \"\", [\"green\", \"limegreen\", \"yellow\", \"orange\", \"red\", \"violet\", \"gray\"])\n",
    "    cmap.set_bad('white', 0.15)\n",
    "    return cmap, norm\n",
    "nicknames_layers = ['outer (foreground = background)', 'inner']\n",
    "cmap, norm = create_colormap_CRB()\n",
    "\n",
    "nrows, ncols = len(titles), number_of_different_layers\n",
    "fig, axs = plt.subplots(nrows=nrows, ncols=ncols,\n",
    "                                figsize=(8, 12), layout=\"constrained\")\n",
    "\n",
    "# compute the standard deviation = srqrt(CRB)\n",
    "maps = [[] for i in range(number_of_different_layers)]\n",
    "for u_idx in range(maps_crb_rw.shape[-1]):\n",
    "    layer_idx = u_idx // len(theta)\n",
    "    sqrt_map = np.ones(maps_crb_rw[:, :, u_idx, u_idx].shape)\n",
    "    sqrt_map.fill(np.nan)\n",
    "    sqrt_map = np.where(~np.isnan(maps_crb_rw[:, :, u_idx, u_idx]), np.sqrt(maps_crb_rw[:, :, u_idx, u_idx]), np.nan)\n",
    "    sqrt_map = np.where(np.isnan(FoV), np.nan, sqrt_map)\n",
    "    maps[layer_idx].append(sqrt_map)\n",
    "    \n",
    "for i in range(nrows):\n",
    "    for j in range(ncols):\n",
    "        ax = axs[i, j]\n",
    "\n",
    "        if j == 0 : \n",
    "            ax.set_ylabel(f'{titles[i]}')\n",
    "        if i == 0 : \n",
    "            ax.set_title(f'{nicknames_layers[j]}')\n",
    "\n",
    "        map = maps[j][i]\n",
    "\n",
    "        if i in [0, 1, 2] : \n",
    "            img = ax.imshow(\n",
    "                map, \n",
    "                origin = 'lower', \n",
    "                cmap = cmap, # to comment to remove the segmented colormap\n",
    "                norm = norm # to comment to remove the segmented colormap\n",
    "            )\n",
    "        else : \n",
    "            img = ax.imshow(\n",
    "                map, \n",
    "                origin = 'lower'\n",
    "            )    \n",
    "        img = plt.colorbar(img, ax=ax)\n",
    "\n",
    "fig.savefig(f'analyze_map/outputs/estimations/accuracies/maps_crb_rw.pdf')\n"
   ]
  }
 ],
 "metadata": {
  "kernelspec": {
   "display_name": ".env",
   "language": "python",
   "name": "python3"
  },
  "language_info": {
   "codemirror_mode": {
    "name": "ipython",
    "version": 3
   },
   "file_extension": ".py",
   "mimetype": "text/x-python",
   "name": "python",
   "nbconvert_exporter": "python",
   "pygments_lexer": "ipython3",
   "version": "3.11.10"
  }
 },
 "nbformat": 4,
 "nbformat_minor": 2
}
