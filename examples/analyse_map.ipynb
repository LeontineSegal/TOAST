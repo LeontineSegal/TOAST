{
 "cells": [
  {
   "cell_type": "markdown",
   "metadata": {},
   "source": [
    "# <center> The Horsehead nebula dataset </center>\n",
    "\n",
    "## <center> Analyzing portions of the field of view </center>"
   ]
  },
  {
   "cell_type": "code",
   "execution_count": null,
   "metadata": {},
   "outputs": [],
   "source": [
    "# %% load modules\n",
    "import os\n",
    "import sys\n",
    "sys.path.append(os.path.join(os.getcwd(), '.', '..'))\n",
    "\n",
    "import numpy as np \n",
    "\n",
    "# TOAST toolboxs\n",
    "from toolboxs.toolbox_physics.toolbox_physics import compute_moments\n",
    "from toolboxs.toolbox_plot.toolbox_plot import plot_maps, show_LoS\n",
    "\n",
    "# to show image results\n",
    "from IPython.display import Image\n",
    "from IPython.display import IFrame\n",
    "\n",
    "import matplotlib\n",
    "import matplotlib.pyplot as plt\n",
    "import matplotlib.colors as colors\n"
   ]
  },
  {
   "cell_type": "code",
   "execution_count": null,
   "metadata": {},
   "outputs": [],
   "source": [
    "# paths\n",
    "path_dataset = '***/TOAST/examples/data-horsehead/inputs'"
   ]
  },
  {
   "cell_type": "markdown",
   "metadata": {},
   "source": [
    "To illustrate how derive map of estimations with `TOAST`, this notebook is focusing one a dense region ($A_v > 16 \\text{ mag}$) within the Horsehead. \n",
    "The corresponding field of view map `Fov_dense_region.py` is provided in `examples/data-horsehead/inputs`. Please, <font color='red'> rename it `FoV.py`</font>."
   ]
  },
  {
   "cell_type": "code",
   "execution_count": null,
   "metadata": {},
   "outputs": [],
   "source": [
    "FoV = np.load(f'{path_dataset}/FoV.npy', allow_pickle=True) # position-position-velocity cubes\n",
    "\n",
    "# check on the FoV map \n",
    "name_fig = 'FoV'\n",
    "fig = plot_maps(\n",
    "    maps=[FoV],\n",
    "    titles=[r'Studied field of view'],\n",
    "    array_coordinates=True, \n",
    "    cmap = ['gray']\n",
    "    )"
   ]
  },
  {
   "cell_type": "markdown",
   "metadata": {},
   "source": [
    "## The sandwich model"
   ]
  },
  {
   "cell_type": "markdown",
   "metadata": {},
   "source": [
    "To describe region with dense cores, we model the sight-line as a sandwich (see the figure below). The corresponding filled template `model_analyze_map.py` is provided in the folder `TOAST/`. <font color='red'> Rename it `model.py`</font> (in `model.py`, modify the section `paths` as well). \n",
    "\n",
    "**Note**: see details about the sandwich model in reference [1]."
   ]
  },
  {
   "cell_type": "code",
   "execution_count": null,
   "metadata": {},
   "outputs": [],
   "source": [
    "# sketch of the model \n",
    "# theta is the vector of parameters characterizing the gas (Tkin, nH2, colden, FWMH, C_V)\n",
    "img = Image(f'schema/sandwich.png', width=600)\n",
    "img"
   ]
  },
  {
   "cell_type": "markdown",
   "metadata": {},
   "source": [
    "`TOAST` performs multiprocessing. To indeed processing pixels in parallel, in `model.py`, section `verbose and plot setting`, put `PARALLELISM, POLL_SIZE = True, number-of-cores`, where `POLL_SIZE` is the number of cores to use among the ones of your machine. Otherwise, set `PARALLELISM = False, POLL_SIZE = 0`."
   ]
  },
  {
   "cell_type": "code",
   "execution_count": null,
   "metadata": {},
   "outputs": [],
   "source": [
    "# launch the model fitting \n",
    "\n",
    "os.system('python .././launch_model_fitting.py')"
   ]
  },
  {
   "cell_type": "markdown",
   "metadata": {},
   "source": [
    "**Note**: one can check the progression of the process by looking at the file `results_rw`."
   ]
  },
  {
   "cell_type": "code",
   "execution_count": null,
   "metadata": {},
   "outputs": [],
   "source": [
    "# checking the estimation results, from the random walk (the search in the gridded space), \n",
    "# written in readable files `result_rw`\n",
    "\n",
    "# NLL is the Negative Log-Likelihood, the criterion that we are minimizing\n",
    "# Walkers are the vectors of parameters spread in the space. \n",
    "# The number of walkers found at the minimum NLL can be used as an insight of the convergence.\n",
    "\n",
    "file = open(f'analyze_map/outputs/results_rw', 'r')\n",
    "textfile = file.read()\n",
    "print(textfile)"
   ]
  },
  {
   "cell_type": "markdown",
   "metadata": {},
   "source": [
    "**Notes**: As seen in the notebook `analyse_one_pixel.ipynb`, one can refine those estimations with the gradient descent by relaunching the model fitting after setting in `model.py`, section `model fitting settings`, `optimization='gd'`."
   ]
  },
  {
   "cell_type": "markdown",
   "metadata": {},
   "source": [
    "### Result visualization "
   ]
  },
  {
   "cell_type": "code",
   "execution_count": null,
   "metadata": {},
   "outputs": [],
   "source": [
    "# load results \n",
    "# vector theta : {log(Tkin), log(nH2), log(N(mol_ref)), FWHM, CV}, for each layer\n",
    "maps_theta_rw = np.load(f'analyze_map/outputs/estimations/maps_theta_rw.npy', allow_pickle = True)\n",
    "\n",
    "number_of_params = maps_theta_rw.shape[2]\n",
    "number_of_layers = maps_theta_rw.shape[3]\n",
    "\n",
    "# show maps of Tkin, nH2, N(mol_ref), FWHM, C_V\n",
    "\n",
    "folder = 'maps_estimations'\n",
    "os.system(f'mkdir analyze_map/{folder}')\n",
    "\n",
    "titles = [\n",
    "    r'log($T_{\\mathrm{kin}}$ /K)',\n",
    "    r'log($n_{\\mathrm{H}_2}$ /cm$^{-3}$)',\n",
    "    r'log($N$ /cm$^{-2}$)',\n",
    "    r'FWHM [km/s]',\n",
    "    r'$C_V$ [km/s]'\n",
    "]\n",
    "\n",
    "# for colormap \n",
    "FPS = np.load(f'data-horsehead/grids-Tex-tau/radexUnifSphere/FPS.npy', allow_pickle = True)\n",
    "vmin_vmax = [\n",
    "            [10**np.min(FPS[0]), 10**np.max(FPS[0])], \n",
    "            [10**np.min(FPS[1]), 10**np.max(FPS[1])],\n",
    "            [10**np.min(FPS[2]), 10**np.max(FPS[2])],\n",
    "            [np.min(FPS[3]), np.max(FPS[3])],\n",
    "            [9.5, 11.5]]\n",
    "format_colorbar=['%.f', '', '', '%.1f', '%.1f']\n",
    "minorticks_on = [True, True, True, False, False]\n",
    "cmap = ['jet', 'jet', 'jet', 'seismic', 'seismic']\n",
    "nicknames_layers = ['foreground', 'inner', 'background']\n",
    "norm = [\n",
    "    colors.LogNorm(vmin = vmin_vmax[0][0], vmax = vmin_vmax[0][1]), \n",
    "    colors.LogNorm(vmin = vmin_vmax[1][0], vmax = vmin_vmax[1][1]), \n",
    "    colors.LogNorm(vmin = vmin_vmax[2][0], vmax = vmin_vmax[2][1]), \n",
    "    colors.Normalize(vmin = vmin_vmax[3][0], vmax = vmin_vmax[3][1]),\n",
    "    colors.Normalize(vmin=9.5, vmax=11.5)\n",
    "]\n",
    "\n",
    "nrows, ncols = number_of_params, number_of_layers\n",
    "fig, axs = plt.subplots(nrows=nrows, ncols=ncols,\n",
    "                                figsize=(10, 10), layout=\"constrained\")\n",
    "for i in range(nrows):\n",
    "\n",
    "    for j in range(ncols):\n",
    "        ax = axs[i, j]\n",
    "\n",
    "        if j == 0 : \n",
    "            ax.set_ylabel(f'{titles[i]}')\n",
    "        if i == 0 : \n",
    "            ax.set_title(f'Layer {j+1} ({nicknames_layers[j]})')\n",
    "\n",
    "        map = maps_theta_rw[:, :, i, j]\n",
    "\n",
    "        if i in [0, 1, 2] : # log(Tkin), log(nH2), log(N)\n",
    "            map = 10 ** map\n",
    "\n",
    "        img = ax.imshow(\n",
    "                map,\n",
    "                origin='lower',\n",
    "                cmap = cmap[i],\n",
    "                norm = norm[i]\n",
    "                  )\n",
    "        \n",
    "        if format_colorbar[i] == '' : \n",
    "            colorBar = plt.colorbar(\n",
    "                    img, \n",
    "                    ax = ax)\n",
    "        else:\n",
    "            colorBar = plt.colorbar(\n",
    "                img, \n",
    "                ax = ax, \n",
    "                format = format_colorbar[i]\n",
    "                )\n",
    "        if minorticks_on[i] != False : \n",
    "            colorBar.ax.minorticks_on()\n",
    "   \n",
    "fig.savefig(f'analyze_map/{folder}/maps_theta_rw.pdf')\n"
   ]
  },
  {
   "cell_type": "code",
   "execution_count": null,
   "metadata": {},
   "outputs": [],
   "source": [
    "# show maps of column density \n",
    "# column densities of all species \n",
    "maps_log10_N_rw = np.load(f'analyze_map/outputs/estimations/maps_log10_N_rw.npy', allow_pickle = True)\n",
    "\n",
    "number_of_species = maps_log10_N_rw.shape[2]\n",
    "number_of_layers = maps_log10_N_rw.shape[3]\n",
    "\n",
    "titles = [\n",
    "    '12co',\n",
    "    '13co',\n",
    "    'c18o',\n",
    "    'hcop',\n",
    "    'h13cop'\n",
    "]\n",
    "\n",
    "# for colormap \n",
    "FPS = np.load(f'data-horsehead/grids-Tex-tau/radexUnifSphere/FPS.npy', allow_pickle = True)\n",
    "colden_ratios = np.load(f'data-horsehead/inputs/colden_ratios.npy', allow_pickle = True)\n",
    "\n",
    "vmin_mol_ref, vmax_mol_ref = np.min(FPS[2]), np.max(FPS[2]) # log10(N(13co))\n",
    "vmin_vmax = [\n",
    "            [10**(vmin_mol_ref + colden_ratios.item().get('12co')), 10**(vmax_mol_ref + colden_ratios.item().get('12co'))], \n",
    "            [10**(vmin_mol_ref + colden_ratios.item().get('13co')), 10**(vmax_mol_ref + colden_ratios.item().get('13co'))], \n",
    "            [10**(vmin_mol_ref + colden_ratios.item().get('c18o')), 10**(vmax_mol_ref + colden_ratios.item().get('c18o'))], \n",
    "            [10**(vmin_mol_ref + colden_ratios.item().get('hcop')), 10**(vmax_mol_ref + colden_ratios.item().get('hcop'))], \n",
    "            [10**(vmin_mol_ref + colden_ratios.item().get('h13cop')), 10**(vmax_mol_ref + colden_ratios.item().get('h13cop'))]\n",
    "            ]\n",
    "cmap = 'jet'\n",
    "nicknames_layers = ['foreground', 'inner', 'background']\n",
    "norm = [\n",
    "    colors.LogNorm(vmin = vmin_vmax[0][0], vmax = vmin_vmax[0][1]), \n",
    "    colors.LogNorm(vmin = vmin_vmax[1][0], vmax = vmin_vmax[1][1]), \n",
    "    colors.LogNorm(vmin = vmin_vmax[2][0], vmax = vmin_vmax[2][1]), \n",
    "    colors.LogNorm(vmin = vmin_vmax[3][0], vmax = vmin_vmax[3][1]),\n",
    "    colors.LogNorm(vmin = vmin_vmax[4][0], vmax = vmin_vmax[4][1])\n",
    "]\n",
    "\n",
    "nrows, ncols = number_of_params, number_of_layers\n",
    "fig, axs = plt.subplots(nrows=nrows, ncols=ncols,\n",
    "                                figsize=(10, 10), layout=\"constrained\")\n",
    "for i in range(nrows):\n",
    "\n",
    "    for j in range(ncols):\n",
    "        ax = axs[i, j]\n",
    "\n",
    "        if j == 0 : \n",
    "            ax.set_ylabel(f'{titles[i]}')\n",
    "        if i == 0 : \n",
    "            ax.set_title(f'Layer {j+1} ({nicknames_layers[j]})')\n",
    "\n",
    "        map = maps_log10_N_rw[:, :, i, j]\n",
    "        map = 10 ** map\n",
    "        map = np.where(np.isnan(FoV), np.nan, map)\n",
    "\n",
    "        img = ax.imshow(\n",
    "                map,\n",
    "                origin='lower',\n",
    "                cmap = cmap,\n",
    "                #norm = norm[i]\n",
    "                  )\n",
    "        \n",
    "        colorBar = plt.colorbar(\n",
    "                    img, \n",
    "                    ax = ax\n",
    "                    )\n",
    "        colorBar.ax.minorticks_on()\n",
    "   \n",
    "fig.savefig(f'analyze_map/{folder}/maps_theta_rw.pdf')\n",
    "\n"
   ]
  }
 ],
 "metadata": {
  "kernelspec": {
   "display_name": ".env",
   "language": "python",
   "name": "python3"
  },
  "language_info": {
   "codemirror_mode": {
    "name": "ipython",
    "version": 3
   },
   "file_extension": ".py",
   "mimetype": "text/x-python",
   "name": "python",
   "nbconvert_exporter": "python",
   "pygments_lexer": "ipython3",
   "version": "3.11.10"
  }
 },
 "nbformat": 4,
 "nbformat_minor": 2
}
